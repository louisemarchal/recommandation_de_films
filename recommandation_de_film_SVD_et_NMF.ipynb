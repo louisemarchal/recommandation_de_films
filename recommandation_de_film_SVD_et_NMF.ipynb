{
 "cells": [
  {
   "cell_type": "code",
   "execution_count": 1,
   "metadata": {
    "collapsed": true
   },
   "outputs": [],
   "source": [
    "from sklearn.decomposition import TruncatedSVD\n",
    "from sklearn.decomposition import NMF\n",
    "import scipy.sparse as sp\n",
    "import random\n",
    "import numpy as np\n",
    "import matplotlib.pyplot as plt\n",
    "import pandas as pd\n",
    "import torch.nn as nn\n",
    "import torch\n",
    "from torch.autograd import Variable"
   ]
  },
  {
   "cell_type": "code",
   "execution_count": 2,
   "metadata": {
    "collapsed": true
   },
   "outputs": [],
   "source": [
    "def loadMovieLens(path='./ml-1m'):\n",
    "    # Get movie titles\n",
    "    movies={}\n",
    "    for line in open(path+'/movies.dat'):\n",
    "        (id,title)=line.split('::')[0:2]\n",
    "        movies[id]=title\n",
    "    # Load data\n",
    "    prefs={}\n",
    "    for line in open(path+'/ratings.dat'):\n",
    "        (user,movieid,rating,ts)=line.split('::')\n",
    "        prefs.setdefault(user,{})\n",
    "        prefs[user][movies[movieid]]=float(rating)\n",
    "    return prefs, movies"
   ]
  },
  {
   "cell_type": "code",
   "execution_count": 3,
   "metadata": {
    "collapsed": true
   },
   "outputs": [],
   "source": [
    "dico, movies = loadMovieLens()"
   ]
  },
  {
   "cell_type": "code",
   "execution_count": 4,
   "metadata": {
    "collapsed": true
   },
   "outputs": [],
   "source": [
    "def inverse_dico(dico):\n",
    "    d = dict()\n",
    "    for k,v in dico.items():\n",
    "        d[v]=k\n",
    "    return d"
   ]
  },
  {
   "cell_type": "code",
   "execution_count": 5,
   "metadata": {
    "collapsed": false
   },
   "outputs": [],
   "source": [
    "movies_inv = inverse_dico(movies)"
   ]
  },
  {
   "cell_type": "code",
   "execution_count": 6,
   "metadata": {
    "collapsed": true
   },
   "outputs": [],
   "source": [
    "def create_sparse(dico, movies):\n",
    "    user_ratings_mean = []\n",
    "    \n",
    "    nb_u = max([ int(k) for k in dico.keys()])+1\n",
    "    nb_f = max([ int(k) for k in movies.values()])+1\n",
    "    \n",
    "    #train\n",
    "    mat_mean_train = sp.dok_matrix((nb_u , nb_f))\n",
    "    mat_ori_train = sp.dok_matrix((nb_u , nb_f))\n",
    "    \n",
    "    for id_c, m in dico.items():\n",
    "        moy=np.mean((list(m.values())))\n",
    "        for f, note in m.items():\n",
    "            mat_mean_train[int(id_c)-1,int(movies_inv[f])] = note-moy\n",
    "            mat_ori_train[int(id_c)-1,int(movies_inv[f])] = note\n",
    "        user_ratings_mean.append(moy)             \n",
    "        \n",
    "    return mat_mean_train, mat_ori_train, np.array(user_ratings_mean)"
   ]
  },
  {
   "cell_type": "code",
   "execution_count": 7,
   "metadata": {
    "collapsed": false
   },
   "outputs": [],
   "source": [
    "mat_train, mat_ori_train, user_ratings_mean = create_sparse(dico, movies_inv)"
   ]
  },
  {
   "cell_type": "code",
   "execution_count": 8,
   "metadata": {
    "collapsed": true
   },
   "outputs": [],
   "source": [
    "nb_u = max([ int(k) for k in dico.keys()])+1\n",
    "nb_f = max([ int(k) for k in movies.keys()])+1\n",
    "nb_user = nb_u -int( nb_u *0.10)\n",
    "nb_mov = nb_f -int( nb_f *0.10)"
   ]
  },
  {
   "cell_type": "code",
   "execution_count": 9,
   "metadata": {
    "collapsed": true
   },
   "outputs": [],
   "source": [
    "mat_ori = mat_ori_train.copy()\n",
    "mat_test = sp.dok_matrix((nb_u , nb_f))\n",
    "mat_test[nb_user:, nb_mov:] = mat_train[nb_user:, nb_mov:]\n",
    "mat_ori_test = sp.dok_matrix((nb_u , nb_f ))\n",
    "mat_ori_test[nb_user:, nb_mov:] = mat_ori_train[nb_user:, nb_mov:]\n",
    "\n",
    "mat_train[nb_user: , nb_mov:]=0\n",
    "mat_ori_train[nb_user:, nb_mov:]=0"
   ]
  },
  {
   "cell_type": "code",
   "execution_count": 10,
   "metadata": {
    "collapsed": true
   },
   "outputs": [],
   "source": [
    "def score_quad(mat_ori,pred):\n",
    "    cout = 0\n",
    "    n = 0\n",
    "    for i,j in mat_ori.keys():\n",
    "        n += 1\n",
    "        cout += abs(mat_ori[i,j]-pred[i][j])**2\n",
    "    return cout/n"
   ]
  },
  {
   "cell_type": "markdown",
   "metadata": {},
   "source": [
    "SVD"
   ]
  },
  {
   "cell_type": "code",
   "execution_count": 92,
   "metadata": {
    "collapsed": true
   },
   "outputs": [],
   "source": [
    "res_cout_train = []\n",
    "res_cout_test = []\n",
    "for n in [2, 5, 10, 20, 40, 60, 80, 100]:\n",
    "    svd = TruncatedSVD(n_components=n, random_state=0)\n",
    "    svd.fit(mat_train)\n",
    "    U, sigma, Vt = svd.components_, svd.explained_variance_ratio_, svd.singular_values_\n",
    "    sigma = np.diag(sigma)\n",
    "    all_user_predicted_ratings = np.dot(np.dot(U.T, sigma), Vt) + user_ratings_mean.reshape(-1, 1)\n",
    "    res_cout_train.append(score_quad(mat_ori_train, all_user_predicted_ratings))\n",
    "    res_cout_test.append(score_quad(mat_ori_test, all_user_predicted_ratings))"
   ]
  },
  {
   "cell_type": "code",
   "execution_count": 93,
   "metadata": {
    "collapsed": false
   },
   "outputs": [
    {
     "data": {
      "image/png": "[encoded data removed]",
      "text/plain": [
       "<matplotlib.figure.Figure at 0x245abdd8208>"
      ]
     },
     "metadata": {},
     "output_type": "display_data"
    }
   ],
   "source": [
    "plt.plot([2, 5, 10, 20, 40, 60, 80, 100], res_cout_train, label=\"apprentissage\")\n",
    "plt.plot([2, 5, 10, 20, 40, 60, 80, 100], res_cout_test, label=\"test\")\n",
    "plt.title(\"Cout quadratique en apprentissage et en test en fonction de la dimensionalité de la sortie\")\n",
    "plt.legend()\n",
    "plt.show()"
   ]
  },
  {
   "cell_type": "code",
   "execution_count": 98,
   "metadata": {
    "collapsed": false
   },
   "outputs": [
    {
     "data": {
      "text/html": [
       "<div>\n",
       "<table border=\"1\" class=\"dataframe\">\n",
       "  <thead>\n",
       "    <tr style=\"text-align: right;\">\n",
       "      <th></th>\n",
       "      <th>MSE en apprentissage</th>\n",
       "      <th>MSE en test</th>\n",
       "    </tr>\n",
       "  </thead>\n",
       "  <tbody>\n",
       "    <tr>\n",
       "      <th>2</th>\n",
       "      <td>0.963915</td>\n",
       "      <td>1.088177</td>\n",
       "    </tr>\n",
       "    <tr>\n",
       "      <th>5</th>\n",
       "      <td>0.953888</td>\n",
       "      <td>1.083100</td>\n",
       "    </tr>\n",
       "    <tr>\n",
       "      <th>10</th>\n",
       "      <td>0.952139</td>\n",
       "      <td>1.085789</td>\n",
       "    </tr>\n",
       "    <tr>\n",
       "      <th>20</th>\n",
       "      <td>0.950948</td>\n",
       "      <td>1.085271</td>\n",
       "    </tr>\n",
       "    <tr>\n",
       "      <th>40</th>\n",
       "      <td>0.951494</td>\n",
       "      <td>1.082277</td>\n",
       "    </tr>\n",
       "    <tr>\n",
       "      <th>60</th>\n",
       "      <td>0.952377</td>\n",
       "      <td>1.083588</td>\n",
       "    </tr>\n",
       "    <tr>\n",
       "      <th>80</th>\n",
       "      <td>0.951793</td>\n",
       "      <td>1.085511</td>\n",
       "    </tr>\n",
       "    <tr>\n",
       "      <th>100</th>\n",
       "      <td>0.951532</td>\n",
       "      <td>1.085381</td>\n",
       "    </tr>\n",
       "  </tbody>\n",
       "</table>\n",
       "</div>"
      ],
      "text/plain": [
       "     MSE en apprentissage  MSE en test\n",
       "2                0.963915     1.088177\n",
       "5                0.953888     1.083100\n",
       "10               0.952139     1.085789\n",
       "20               0.950948     1.085271\n",
       "40               0.951494     1.082277\n",
       "60               0.952377     1.083588\n",
       "80               0.951793     1.085511\n",
       "100              0.951532     1.085381"
      ]
     },
     "execution_count": 98,
     "metadata": {},
     "output_type": "execute_result"
    }
   ],
   "source": [
    "tab= np.array([res_cout_train, res_cout_test]).T\n",
    "pd.DataFrame(tab, columns=[\"MSE en apprentissage\", \"MSE en test\"], index=[2, 5, 10, 20, 40, 60, 80, 100])"
   ]
  },
  {
   "cell_type": "markdown",
   "metadata": {},
   "source": [
    "On observe que l'erreur en test est la plus faible pour n_components = 5 donc on décide de réaliser nos recommandations avec ce paramètre"
   ]
  },
  {
   "cell_type": "code",
   "execution_count": 95,
   "metadata": {
    "collapsed": true
   },
   "outputs": [],
   "source": [
    "svd = TruncatedSVD(n_components=5, random_state=0)\n",
    "svd.fit(mat_train)\n",
    "U, sigma, Vt = svd.components_, svd.explained_variance_ratio_, svd.singular_values_\n",
    "sigma = np.diag(sigma)\n",
    "all_user_predicted_ratings = np.dot(np.dot(U.T, sigma), Vt) + user_ratings_mean.reshape(-1, 1)"
   ]
  },
  {
   "cell_type": "code",
   "execution_count": 37,
   "metadata": {
    "collapsed": true
   },
   "outputs": [],
   "source": [
    "def recommend_movies(pred, userID, movies, mat_ori, num_rec=5):\n",
    "    #trie les notes -> récupère les indices\n",
    "    sort_id_pred = np.argsort(-pred[userID-1])\n",
    "    \n",
    "    #récupère les films déjà vu par l'utilisateur\n",
    "    user_data = mat_ori[userID-1]    \n",
    "    res = []    \n",
    "    i = 0\n",
    "    for p in sort_id_pred:\n",
    "        if(mat_ori[userID-1][(0, p)]==0):\n",
    "            res.append([movies[str(p+1)], pred[userID-1][p]])\n",
    "            i +=1\n",
    "        if(i==num_rec):\n",
    "            break\n",
    "    return res  "
   ]
  },
  {
   "cell_type": "code",
   "execution_count": 97,
   "metadata": {
    "collapsed": false,
    "scrolled": true
   },
   "outputs": [
    {
     "data": {
      "text/html": [
       "<div>\n",
       "<table border=\"1\" class=\"dataframe\">\n",
       "  <thead>\n",
       "    <tr style=\"text-align: right;\">\n",
       "      <th></th>\n",
       "      <th>film</th>\n",
       "      <th>note estimée</th>\n",
       "    </tr>\n",
       "  </thead>\n",
       "  <tbody>\n",
       "    <tr>\n",
       "      <th>0</th>\n",
       "      <td>Little Women (1994)</td>\n",
       "      <td>4.749726</td>\n",
       "    </tr>\n",
       "    <tr>\n",
       "      <th>1</th>\n",
       "      <td>Brazil (1985)</td>\n",
       "      <td>4.696947</td>\n",
       "    </tr>\n",
       "    <tr>\n",
       "      <th>2</th>\n",
       "      <td>Princess Bride, The (1987)</td>\n",
       "      <td>4.662173</td>\n",
       "    </tr>\n",
       "    <tr>\n",
       "      <th>3</th>\n",
       "      <td>Taxi Driver (1976)</td>\n",
       "      <td>4.334350</td>\n",
       "    </tr>\n",
       "    <tr>\n",
       "      <th>4</th>\n",
       "      <td>Wings of Desire (Der Himmel über Berlin) (1987)</td>\n",
       "      <td>4.289879</td>\n",
       "    </tr>\n",
       "  </tbody>\n",
       "</table>\n",
       "</div>"
      ],
      "text/plain": [
       "                                              film  note estimée\n",
       "0                              Little Women (1994)      4.749726\n",
       "1                                    Brazil (1985)      4.696947\n",
       "2                       Princess Bride, The (1987)      4.662173\n",
       "3                               Taxi Driver (1976)      4.334350\n",
       "4  Wings of Desire (Der Himmel über Berlin) (1987)      4.289879"
      ]
     },
     "execution_count": 97,
     "metadata": {},
     "output_type": "execute_result"
    }
   ],
   "source": [
    "r = recommend_movies(all_user_predicted_ratings, 5, movies, mat_ori)\n",
    "pd.DataFrame(r, columns=[\"film\", \"note estimée\"])"
   ]
  },
  {
   "cell_type": "markdown",
   "metadata": {},
   "source": [
    "NMF"
   ]
  },
  {
   "cell_type": "code",
   "execution_count": 32,
   "metadata": {
    "collapsed": false
   },
   "outputs": [],
   "source": [
    "nmf_res_cout_train = []\n",
    "nmf_res_cout_test = []\n",
    "for n in [2, 5, 10, 20, 40, 60, 80, 100]:\n",
    "    nmf = NMF(n_components=n, init='random', solver = 'mu', max_iter=700, tol=0.0001 )\n",
    "    W = nmf.fit_transform(mat_ori_train) \n",
    "    H = nmf.components_\n",
    "    nmf_pred= np.dot(W,H)\n",
    "    nmf_res_cout_train.append(score_quad(mat_ori_train, nmf_pred))\n",
    "    nmf_res_cout_test.append(score_quad(mat_ori_test, nmf_pred))"
   ]
  },
  {
   "cell_type": "code",
   "execution_count": 33,
   "metadata": {
    "collapsed": false
   },
   "outputs": [
    {
     "data": {
      "image/png": "[encoded data removed]",
      "text/plain": [
       "<matplotlib.figure.Figure at 0x1705dd96048>"
      ]
     },
     "metadata": {},
     "output_type": "display_data"
    }
   ],
   "source": [
    "plt.plot([2, 5, 10, 20, 40, 60, 80, 100], nmf_res_cout_train, label=\"apprentissage\")\n",
    "plt.plot([2, 5, 10, 20, 40, 60, 80, 100], nmf_res_cout_test, label=\"test\")\n",
    "plt.title(\"Cout quadratique en apprentissage et en test en fonction de la dimension C\")\n",
    "plt.legend()\n",
    "plt.show()"
   ]
  },
  {
   "cell_type": "code",
   "execution_count": 34,
   "metadata": {
    "collapsed": false
   },
   "outputs": [
    {
     "data": {
      "text/html": [
       "<div>\n",
       "<table border=\"1\" class=\"dataframe\">\n",
       "  <thead>\n",
       "    <tr style=\"text-align: right;\">\n",
       "      <th></th>\n",
       "      <th>cout MSE en apprentissage</th>\n",
       "      <th>Cout MSE en test</th>\n",
       "    </tr>\n",
       "  </thead>\n",
       "  <tbody>\n",
       "    <tr>\n",
       "      <th>2</th>\n",
       "      <td>8.169461</td>\n",
       "      <td>9.233693</td>\n",
       "    </tr>\n",
       "    <tr>\n",
       "      <th>5</th>\n",
       "      <td>7.407550</td>\n",
       "      <td>8.704080</td>\n",
       "    </tr>\n",
       "    <tr>\n",
       "      <th>10</th>\n",
       "      <td>6.828230</td>\n",
       "      <td>8.621561</td>\n",
       "    </tr>\n",
       "    <tr>\n",
       "      <th>20</th>\n",
       "      <td>6.205860</td>\n",
       "      <td>8.885478</td>\n",
       "    </tr>\n",
       "    <tr>\n",
       "      <th>40</th>\n",
       "      <td>5.715776</td>\n",
       "      <td>8.764013</td>\n",
       "    </tr>\n",
       "    <tr>\n",
       "      <th>60</th>\n",
       "      <td>5.410702</td>\n",
       "      <td>8.597508</td>\n",
       "    </tr>\n",
       "    <tr>\n",
       "      <th>80</th>\n",
       "      <td>5.193152</td>\n",
       "      <td>8.888490</td>\n",
       "    </tr>\n",
       "    <tr>\n",
       "      <th>100</th>\n",
       "      <td>4.987090</td>\n",
       "      <td>9.128422</td>\n",
       "    </tr>\n",
       "  </tbody>\n",
       "</table>\n",
       "</div>"
      ],
      "text/plain": [
       "     cout MSE en apprentissage  Cout MSE en test\n",
       "2                     8.169461          9.233693\n",
       "5                     7.407550          8.704080\n",
       "10                    6.828230          8.621561\n",
       "20                    6.205860          8.885478\n",
       "40                    5.715776          8.764013\n",
       "60                    5.410702          8.597508\n",
       "80                    5.193152          8.888490\n",
       "100                   4.987090          9.128422"
      ]
     },
     "execution_count": 34,
     "metadata": {},
     "output_type": "execute_result"
    }
   ],
   "source": [
    "tab= np.array([nmf_res_cout_train, nmf_res_cout_test]).T\n",
    "pd.DataFrame(tab, columns=[\"cout MSE en apprentissage\", \"Cout MSE en test\"], index=[2, 5, 10, 20, 40, 60, 80, 100])"
   ]
  },
  {
   "cell_type": "code",
   "execution_count": 35,
   "metadata": {
    "collapsed": true
   },
   "outputs": [],
   "source": [
    "nmf = NMF(n_components=5, init='random', max_iter=1000, tol=0.0001)\n",
    "W = nmf.fit_transform(mat_ori_train) \n",
    "H = nmf.components_\n",
    "nmf_pred= np.dot(W,H)"
   ]
  },
  {
   "cell_type": "code",
   "execution_count": 38,
   "metadata": {
    "collapsed": false
   },
   "outputs": [
    {
     "data": {
      "text/html": [
       "<div>\n",
       "<table border=\"1\" class=\"dataframe\">\n",
       "  <thead>\n",
       "    <tr style=\"text-align: right;\">\n",
       "      <th></th>\n",
       "      <th>film</th>\n",
       "      <th>note estimée</th>\n",
       "    </tr>\n",
       "  </thead>\n",
       "  <tbody>\n",
       "    <tr>\n",
       "      <th>0</th>\n",
       "      <td>Scout, The (1994)</td>\n",
       "      <td>3.069851</td>\n",
       "    </tr>\n",
       "    <tr>\n",
       "      <th>1</th>\n",
       "      <td>Mass Appeal (1984)</td>\n",
       "      <td>2.843230</td>\n",
       "    </tr>\n",
       "    <tr>\n",
       "      <th>2</th>\n",
       "      <td>Don Juan DeMarco (1995)</td>\n",
       "      <td>2.337794</td>\n",
       "    </tr>\n",
       "    <tr>\n",
       "      <th>3</th>\n",
       "      <td>Onegin (1999)</td>\n",
       "      <td>2.299196</td>\n",
       "    </tr>\n",
       "    <tr>\n",
       "      <th>4</th>\n",
       "      <td>Price of Glory (2000)</td>\n",
       "      <td>2.223488</td>\n",
       "    </tr>\n",
       "  </tbody>\n",
       "</table>\n",
       "</div>"
      ],
      "text/plain": [
       "                      film  note estimée\n",
       "0        Scout, The (1994)      3.069851\n",
       "1       Mass Appeal (1984)      2.843230\n",
       "2  Don Juan DeMarco (1995)      2.337794\n",
       "3            Onegin (1999)      2.299196\n",
       "4    Price of Glory (2000)      2.223488"
      ]
     },
     "execution_count": 38,
     "metadata": {},
     "output_type": "execute_result"
    }
   ],
   "source": [
    "r = recommend_movies(nmf_pred, 5, movies, mat_ori)\n",
    "pd.DataFrame(r, columns=[\"film\", \"note estimée\"])"
   ]
  },
  {
   "cell_type": "markdown",
   "metadata": {},
   "source": [
    "On remarque que les résultats sont beaucoup moins bon qu'avec SVD car NMF prend les 0 comme des valeurs au lieu de les prendre comme des valeurs manquantes."
   ]
  },
  {
   "cell_type": "markdown",
   "metadata": {},
   "source": [
    "Descente de gradient stochastique"
   ]
  },
  {
   "cell_type": "code",
   "execution_count": 11,
   "metadata": {
    "collapsed": false
   },
   "outputs": [],
   "source": [
    "class FactMatrice(torch.autograd.Function):\n",
    "    @staticmethod \n",
    "    def forward(ctx, user_factors, film_factors):\n",
    "        ctx.input=(user_factors, film_factors)\n",
    "        return (user_factors@film_factors)\n",
    "\n",
    "    @staticmethod\n",
    "    def backward(ctx, delta):\n",
    "        x,y =ctx.input\n",
    "        return x , y"
   ]
  },
  {
   "cell_type": "code",
   "execution_count": 12,
   "metadata": {
    "collapsed": false
   },
   "outputs": [],
   "source": [
    "user_factors = torch.nn.Parameter(torch.randn((nb_u, 5), requires_grad=True))\n",
    "film_factors = torch.nn.Parameter(torch.randn( (5, nb_f), requires_grad=True))\n",
    "model = FactMatrice.apply\n",
    "\n",
    "loss_fonc = torch.nn.MSELoss()\n",
    "optimizer = torch.optim.SGD([user_factors,film_factors], lr=1e-4)"
   ]
  },
  {
   "cell_type": "code",
   "execution_count": 13,
   "metadata": {
    "collapsed": true
   },
   "outputs": [],
   "source": [
    "mat = np.array(list(mat_ori_train.keys()))\n",
    "np.random.shuffle(mat)\n",
    "\n",
    "mat_test = np.array(list(mat_ori_test.keys()))"
   ]
  },
  {
   "cell_type": "code",
   "execution_count": 38,
   "metadata": {
    "collapsed": false
   },
   "outputs": [],
   "source": [
    "i = 0\n",
    "nb_batch=1000\n",
    "max_iter = 1500\n",
    "l_loss = []\n",
    "\n",
    "while(i+nb_batch<len(mat) and i<max_iter):\n",
    "    i += 1\n",
    "    notes = []\n",
    "    preds = []\n",
    "    #Prédire et calculer la loss\n",
    "    pred = model(user_factors, film_factors)\n",
    "    \n",
    "    for ligne, col in mat[i:i+nb_batch]:\n",
    "        #changer les données en variable\n",
    "        notes.append(mat_ori_train[ligne, col])\n",
    "        ligne = Variable(torch.LongTensor([np.long(ligne)]))\n",
    "        col = Variable(torch.LongTensor([np.long(col)]))        \n",
    "        preds.append(pred[ligne,col])\n",
    "        \n",
    "    notes = Variable(torch.FloatTensor(notes))    \n",
    "    preds = Variable (torch.FloatTensor(preds), requires_grad=True)\n",
    "    loss = loss_fonc(preds, notes)\n",
    "    l_loss.append(loss.item())\n",
    "\n",
    "    optimizer.zero_grad()\n",
    "    #backpropagation\n",
    "    loss.backward()\n",
    "\n",
    "    #m.a.j params\n",
    "    optimizer.step()\n",
    "    \n",
    "    notes_test = []\n",
    "    pred_test = []\n",
    "    #test\n",
    "    for ligne, col in mat_test:\n",
    "        notes_test.append(mat_ori_test[ligne, col])\n",
    "        ligne = Variable(torch.LongTensor([np.long(ligne)]))\n",
    "        col = Variable(torch.LongTensor([np.long(col)]))        \n",
    "        pred_test.append(pred[ligne,col])\n",
    "        \n",
    "    notes_test = Variable(torch.FloatTensor(notes_test))    \n",
    "    pred_test = Variable (torch.FloatTensor(pred_test), requires_grad=True)\n",
    "    l_test = loss_fonc(pred_test, notes_test)\n",
    "    l_loss_test.append(l_test.item())"
   ]
  },
  {
   "cell_type": "code",
   "execution_count": 39,
   "metadata": {
    "collapsed": false
   },
   "outputs": [
    {
     "data": {
      "image/png": "[encoded data removed]",
      "text/plain": [
       "<matplotlib.figure.Figure at 0x245a8b3c358>"
      ]
     },
     "metadata": {},
     "output_type": "display_data"
    }
   ],
   "source": [
    "plt.plot(range(max_iter),l_loss_train, label=\"apprentissage\")\n",
    "plt.plot(range(max_iter), l_loss_test, label=\"test\")\n",
    "plt.title(\"Cout en apprentissage et en test d'une descente de gradient en fonction des itérations\")\n",
    "plt.legend()\n",
    "plt.show()"
   ]
  },
  {
   "cell_type": "code",
   "execution_count": 17,
   "metadata": {
    "collapsed": false
   },
   "outputs": [],
   "source": [
    "class BiasedMatrixFact(torch.autograd.Function):\n",
    "    @staticmethod\n",
    "    def forward(ctx, user, film, biais_user, biais_film):\n",
    "        ctx.input = (user, biais_user, film, biais_film)\n",
    "        \"\"\"print(\"bu\", biais_user.size())\n",
    "        print(\"bf\", biais_film.size())\n",
    "        print(\"user\", user.size())\n",
    "        print(\"film\", film.size())\"\"\"\n",
    "        return (user@film)+biais_user.view(-1,1)+biais_film\n",
    "    \n",
    "    @staticmethod\n",
    "    def backward(ctx, delta):\n",
    "        x, bu, y, bf = ctx.input\n",
    "        bu = torch.ones(len(bu))\n",
    "        bf = torch.ones(len(bf))\n",
    "        return x@delta, y@delta, bu@delta, bf@delta"
   ]
  },
  {
   "cell_type": "code",
   "execution_count": 27,
   "metadata": {
    "collapsed": true
   },
   "outputs": [],
   "source": [
    "n_comp=3\n",
    "user_factors = torch.nn.Parameter(torch.randn((nb_u, n_comp), requires_grad=True))\n",
    "film_factors = torch.nn.Parameter(torch.randn((n_comp, nb_f), requires_grad=True))\n",
    "biais_user = torch.nn.Parameter(torch.randn(nb_u, requires_grad=True))\n",
    "biais_film = torch.nn.Parameter(torch.randn(nb_f, requires_grad=True))\n",
    "model = BiasedMatrixFact.apply\n",
    "\n",
    "loss_fonc = torch.nn.MSELoss()\n",
    "optimizer = torch.optim.SGD([user_factors,film_factors, biais_user, biais_film], lr=1e-3)"
   ]
  },
  {
   "cell_type": "code",
   "execution_count": 30,
   "metadata": {
    "collapsed": true
   },
   "outputs": [
    {
     "name": "stdout",
     "output_type": "stream",
     "text": [
      "j= 0\n",
      "j= 1\n",
      "j= 2\n",
      "j= 3\n",
      "j= 4\n"
     ]
    }
   ],
   "source": [
    "i = 0\n",
    "nb_batch=1000\n",
    "max_iter = 5\n",
    "l_loss_train = []\n",
    "l_loss_test = []\n",
    "j=0\n",
    "res_loss_train = []\n",
    "res_loss_test = []\n",
    "\n",
    "while(j<max_iter):\n",
    "    if(i+nb_batch>=len(mat)):\n",
    "        print(\"j=\",j)\n",
    "        i=0\n",
    "        j+=1\n",
    "        res_loss_train.append(np.mean(l_loss_train))\n",
    "        l_loss_train = []\n",
    "        res_loss_test.append(np.mean(l_loss_test))\n",
    "        l_loss_test = []\n",
    "        \n",
    "    notes = []\n",
    "    preds = []\n",
    "    #Prédire et calculer la loss\n",
    "    pred = model(user_factors, film_factors, biais_user, biais_film)\n",
    "    \n",
    "    for ligne, col in mat[i:i+nb_batch]:\n",
    "        #changer les données en variable\n",
    "        notes.append(mat_ori_train[ligne, col])\n",
    "        ligne = Variable(torch.LongTensor([np.long(ligne)]))\n",
    "        col = Variable(torch.LongTensor([np.long(col)]))        \n",
    "        preds.append(pred[ligne,col])\n",
    "        \n",
    "    notes = Variable(torch.FloatTensor(notes))    \n",
    "    preds = Variable (torch.FloatTensor(preds), requires_grad=True)\n",
    "    loss = loss_fonc(preds, notes)\n",
    "    l_loss_train.append(loss.item())\n",
    "\n",
    "    optimizer.zero_grad()\n",
    "    #backpropagation\n",
    "    loss.backward()\n",
    "\n",
    "    #m.a.j params\n",
    "    optimizer.step()\n",
    "    \n",
    "    notes_test = []\n",
    "    pred_test = []\n",
    "    #test\n",
    "    for ligne, col in mat_test:\n",
    "        notes_test.append(mat_ori_test[ligne, col])\n",
    "        ligne = Variable(torch.LongTensor([np.long(ligne)]))\n",
    "        col = Variable(torch.LongTensor([np.long(col)]))        \n",
    "        pred_test.append(pred[ligne,col])\n",
    "        \n",
    "    notes_test = Variable(torch.FloatTensor(notes_test))    \n",
    "    pred_test = Variable (torch.FloatTensor(pred_test), requires_grad=True)\n",
    "    l_test = loss_fonc(pred_test, notes_test)\n",
    "    l_loss_test.append(l_test.item())\n",
    "    \n",
    "    i += nb_batch"
   ]
  },
  {
   "cell_type": "code",
   "execution_count": 31,
   "metadata": {
    "collapsed": false
   },
   "outputs": [
    {
     "data": {
      "image/png": "[encoded data removed]",
      "text/plain": [
       "<matplotlib.figure.Figure at 0x1705f2bbd68>"
      ]
     },
     "metadata": {},
     "output_type": "display_data"
    }
   ],
   "source": [
    "plt.plot(range(max_iter),res_loss_train, label=\"apprentissage\")\n",
    "plt.plot(range(max_iter), res_loss_test, label=\"test\")\n",
    "plt.title(\"Cout en apprentissage et en test d'une descente de gradient biaisé en fonction des itérations\")\n",
    "plt.legend()\n",
    "plt.show()"
   ]
  }
 ],
 "metadata": {
  "kernelspec": {
   "display_name": "Python 3",
   "language": "python",
   "name": "python3"
  },
  "language_info": {
   "codemirror_mode": {
    "name": "ipython",
    "version": 3
   },
   "file_extension": ".py",
   "mimetype": "text/x-python",
   "name": "python",
   "nbconvert_exporter": "python",
   "pygments_lexer": "ipython3",
   "version": "3.6.1"
  }
 },
 "nbformat": 4,
 "nbformat_minor": 2
}
